{
 "cells": [
  {
   "cell_type": "markdown",
   "metadata": {},
   "source": [
    "# SurvSHAP(t): Time-Dependent Explanations Of Machine Learning Survival Models\n",
    "### M. Krzyziński, M. Spytek, H. Baniecki, P. Biecek\n",
    "## Experiment 3: Real-world use case: predicting survival of patients with heart failure"
   ]
  },
  {
   "cell_type": "markdown",
   "metadata": {},
   "source": [
    "#### Imports"
   ]
  },
  {
   "cell_type": "code",
   "execution_count": null,
   "metadata": {},
   "outputs": [],
   "source": [
    "import pandas as pd\n",
    "import numpy as np\n",
    "from tqdm import tqdm\n",
    "import pickle\n",
    "from scipy.integrate import trapezoid"
   ]
  },
  {
   "cell_type": "markdown",
   "metadata": {},
   "source": [
    "#### Preparing data and models "
   ]
  },
  {
   "cell_type": "code",
   "execution_count": null,
   "metadata": {},
   "outputs": [],
   "source": [
    "real_data = pd.read_csv(\"data/exp3_heart_failure_dataset.csv\")\n",
    "real_data.rename(columns={\"DEATH_EVENT\": \"event\"}, inplace=True)"
   ]
  },
  {
   "cell_type": "code",
   "execution_count": null,
   "metadata": {},
   "outputs": [],
   "source": [
    "from sksurv.util import Surv\n",
    "X = real_data[[\"age\", \"creatinine_phosphokinase\", \"ejection_fraction\", \"platelets\", \n",
    "                \"serum_creatinine\", \"serum_sodium\", \"sex\", \"smoking\"]]\n",
    "y = Surv.from_dataframe(\"event\", \"time\", real_data)"
   ]
  },
  {
   "cell_type": "code",
   "execution_count": null,
   "metadata": {},
   "outputs": [],
   "source": [
    "from sksurv.ensemble import RandomSurvivalForest\n",
    "rsf = RandomSurvivalForest(random_state=42, n_estimators=120, max_depth=8, min_samples_leaf=4, max_features=3)\n",
    "rsf.fit(X, y)\n",
    "rsf.score(X, y)"
   ]
  },
  {
   "cell_type": "code",
   "execution_count": null,
   "metadata": {},
   "outputs": [],
   "source": [
    "from sksurv.linear_model import CoxPHSurvivalAnalysis\n",
    "cph = CoxPHSurvivalAnalysis()\n",
    "cph.fit(X, y)\n",
    "cph.score(X, y)"
   ]
  },
  {
   "cell_type": "markdown",
   "metadata": {},
   "source": [
    "#### Evaluating performance of models "
   ]
  },
  {
   "cell_type": "code",
   "execution_count": null,
   "metadata": {},
   "outputs": [],
   "source": [
    "from sksurv.metrics import brier_score, integrated_brier_score\n",
    "# mask created to enable for calculating Brier score\n",
    "mask = (y[\"time\"] < y[y[\"event\"]==1][\"time\"].max()) & (y[\"time\"] > y[y[\"event\"]==1][\"time\"].min())\n",
    "times = np.unique(np.percentile(y[mask][\"time\"], np.linspace(0.1, 99.9, 101)))"
   ]
  },
  {
   "cell_type": "code",
   "execution_count": null,
   "metadata": {},
   "outputs": [],
   "source": [
    "survs_rsf = rsf.predict_survival_function(X[mask])\n",
    "survs_cph = cph.predict_survival_function(X[mask])\n",
    "preds_rsf = [fn(times) for fn in survs_rsf]\n",
    "preds_cph = [fn(times) for fn in survs_cph]\n",
    "brier_rsf = brier_score(y, y[mask], preds_rsf, times)\n",
    "brier_cph = brier_score(y, y[mask], preds_cph, times)"
   ]
  },
  {
   "cell_type": "code",
   "execution_count": null,
   "metadata": {},
   "outputs": [],
   "source": [
    "pd.concat([pd.DataFrame({\"time\": times, \"brier_score\":  brier_rsf[1], \"label\": \"RSF\"}),\n",
    "            pd.DataFrame({\"time\": times, \"brier_score\":  brier_cph[1], \"label\": \"CPH\"})]).to_csv(\"results/exp3_model_brier_score.csv\")"
   ]
  },
  {
   "cell_type": "code",
   "execution_count": null,
   "metadata": {},
   "outputs": [],
   "source": [
    "integrated_brier_score(y, y[mask], preds_rsf, times), integrated_brier_score(y, y[mask], preds_cph, times)"
   ]
  },
  {
   "cell_type": "markdown",
   "metadata": {},
   "source": [
    "#### Creating explanations"
   ]
  },
  {
   "cell_type": "code",
   "execution_count": null,
   "metadata": {},
   "outputs": [],
   "source": [
    "from survshap import SurvivalModelExplainer, ModelSurvSHAP\n",
    "from survlime import SurvLIME\n",
    "rsf_exp = SurvivalModelExplainer(rsf, X, y)\n",
    "cph_exp = SurvivalModelExplainer(cph, X, y)"
   ]
  },
  {
   "cell_type": "code",
   "execution_count": null,
   "metadata": {},
   "outputs": [],
   "source": [
    "exp3_survshap_global_rsf = ModelSurvSHAP(random_state=42)\n",
    "exp3_survshap_global_rsf.fit(rsf_exp)"
   ]
  },
  {
   "cell_type": "code",
   "execution_count": null,
   "metadata": {},
   "outputs": [],
   "source": [
    "with open(\"pickles/exp3_survshap_global_rsf\", \"wb\") as f:\n",
    "    pickle.dump(exp3_survshap_global_rsf, f)"
   ]
  },
  {
   "cell_type": "code",
   "execution_count": null,
   "metadata": {},
   "outputs": [],
   "source": [
    "exp3_survshap_global_cph = ModelSurvSHAP(random_state=42)\n",
    "exp3_survshap_global_cph.fit(cph_exp)"
   ]
  },
  {
   "cell_type": "code",
   "execution_count": null,
   "metadata": {},
   "outputs": [],
   "source": [
    "with open(\"pickles/exp3_survshap_global_cph\", \"wb\") as f:\n",
    "    pickle.dump(exp3_survshap_global_cph, f)"
   ]
  },
  {
   "cell_type": "code",
   "execution_count": null,
   "metadata": {},
   "outputs": [],
   "source": [
    "n_obs = len(X)\n",
    "sls = [None for i in range(n_obs)]\n",
    "funcs_dist = [None for i in range(n_obs)]\n",
    "for i, obs in tqdm(enumerate(X.values)):\n",
    "    xx = pd.DataFrame(np.atleast_2d(obs), columns=cph_exp.data.columns)\n",
    "    survlime = SurvLIME(N=1000)\n",
    "    survlime.fit(cph_exp, xx, k=1)\n",
    "    sls[i] = survlime"
   ]
  },
  {
   "cell_type": "code",
   "execution_count": null,
   "metadata": {},
   "outputs": [],
   "source": [
    "with open(\"pickles/exp3_survlime_global_cph\", \"wb\") as f:\n",
    "    pickle.dump(sls, f)"
   ]
  },
  {
   "cell_type": "code",
   "execution_count": null,
   "metadata": {},
   "outputs": [],
   "source": [
    "n_obs = len(X)\n",
    "sls = [None for i in range(n_obs)]\n",
    "funcs_dist = [None for i in range(n_obs)]\n",
    "for i in tqdm(range(n_obs)):\n",
    "    survlime = SurvLIME(N=1000)\n",
    "    survlime.fit(rsf_exp, X.iloc[[i]], k=2, timestamps=rsf.predict_survival_function(X.iloc[[0]])[0].x)\n",
    "    sls[i] = survlime"
   ]
  },
  {
   "cell_type": "code",
   "execution_count": null,
   "metadata": {},
   "outputs": [],
   "source": [
    "with open(\"pickles/exp3_survlime_global_rsf\", \"wb\") as f:\n",
    "    pickle.dump(sls, f)"
   ]
  },
  {
   "cell_type": "markdown",
   "metadata": {},
   "source": [
    "#### Results analysis"
   ]
  },
  {
   "cell_type": "code",
   "execution_count": null,
   "metadata": {},
   "outputs": [],
   "source": [
    "with open(\"pickles/exp3_survshap_global_rsf\", \"rb\") as f:\n",
    "    exp3_survshap_global_rsf = pickle.load(f)"
   ]
  },
  {
   "cell_type": "code",
   "execution_count": null,
   "metadata": {},
   "outputs": [],
   "source": [
    "with open(\"pickles/exp3_survshap_global_cph\", \"rb\") as f:\n",
    "    exp3_survshap_global_cph = pickle.load(f)"
   ]
  },
  {
   "cell_type": "code",
   "execution_count": null,
   "metadata": {},
   "outputs": [],
   "source": [
    "with open(\"pickles/exp3_survlime_global_cph\", \"rb\") as f:\n",
    "    exp3_survlime_global_cph = pickle.load(f)"
   ]
  },
  {
   "cell_type": "code",
   "execution_count": null,
   "metadata": {},
   "outputs": [],
   "source": [
    "with open(\"pickles/exp3_survlime_global_rsf\", \"rb\") as f:\n",
    "    exp3_survlime_global_rsf = pickle.load(f)"
   ]
  },
  {
   "cell_type": "markdown",
   "metadata": {},
   "source": [
    "##### Plot examples"
   ]
  },
  {
   "cell_type": "code",
   "execution_count": null,
   "metadata": {},
   "outputs": [],
   "source": [
    "example_rsf = exp3_survshap_global_rsf.individual_explanations[12]"
   ]
  },
  {
   "cell_type": "code",
   "execution_count": null,
   "metadata": {},
   "outputs": [],
   "source": [
    "melted_example_rsf = pd.melt(example_rsf.result, id_vars=\"variable_name\", value_vars=example_rsf.result.columns[6:])\n",
    "melted_example_rsf[\"variable\"] = melted_example_rsf[\"variable\"].str[4:].astype(float)\n",
    "melted_example_rsf.to_csv(\"results/exp3_example_rsf.csv\", index=False)\n",
    "example_rsf.simplified_result.to_csv(\"results/exp3_example_rsf_agg.csv\", index=False)"
   ]
  },
  {
   "cell_type": "code",
   "execution_count": null,
   "metadata": {},
   "outputs": [],
   "source": [
    "example_rsf2 = exp3_survshap_global_rsf.individual_explanations[14]\n",
    "melted_example_rsf_2 = pd.melt(example_rsf2.result, id_vars=\"variable_name\", value_vars=example_rsf2.result.columns[6:])\n",
    "melted_example_rsf_2[\"variable\"] = melted_example_rsf_2[\"variable\"].str[4:].astype(float)\n",
    "melted_example_rsf_2.to_csv(\"results/exp3_example_rsf_2.csv\", index=False)"
   ]
  },
  {
   "cell_type": "code",
   "execution_count": null,
   "metadata": {},
   "outputs": [],
   "source": [
    "example_cph2 = exp3_survshap_global_cph.individual_explanations[14]\n",
    "melted_example_cph_2 = pd.melt(example_cph2.result, id_vars=\"variable_name\", value_vars=example_cph2.result.columns[6:])\n",
    "melted_example_cph_2[\"variable\"] = melted_example_cph_2[\"variable\"].str[4:].astype(float)\n",
    "melted_example_cph_2.to_csv(\"results/exp3_example_cph_2.csv\", index=False)"
   ]
  },
  {
   "cell_type": "markdown",
   "metadata": {},
   "source": [
    "##### Importance rankings"
   ]
  },
  {
   "cell_type": "code",
   "execution_count": null,
   "metadata": {},
   "outputs": [],
   "source": [
    "def get_orderings_and_ranks_shap(explanations):\n",
    "    importance_orderings = []\n",
    "    importance_ranks = []\n",
    "    for explanation in explanations:\n",
    "        df = explanation.result.copy()\n",
    "        df[\"aggregated_change\"] = trapezoid(np.abs(df.iloc[:, 6:].values), explanation.timestamps)\n",
    "        importance_orderings.append(df.sort_values(by=\"aggregated_change\", key=lambda x: -abs(x)).index.to_list())\n",
    "        importance_ranks.append(np.abs(df.aggregated_change).rank(ascending=False).to_list())\n",
    "    return pd.DataFrame(importance_orderings), pd.DataFrame(importance_ranks)\n",
    "\n",
    "from scipy.stats import weightedtau\n",
    "def mean_weighted_tau(ranks1, ranks2):\n",
    "    taus = [None] * 100\n",
    "    for i in range(100):\n",
    "        tau, _ = weightedtau(ranks1.iloc[i], ranks2.iloc[i])\n",
    "        taus[i] = tau\n",
    "    return np.mean(taus), np.std(taus)\n",
    "\n",
    "def prepare_ranking_summary_long(ordering):\n",
    "    res = pd.DataFrame(columns=[0, 1, 2, 3, 4, 5, 6, 7])\n",
    "    for i in range(8):\n",
    "        tmp = pd.DataFrame(ordering[i].value_counts().to_dict(), index=[i+1])\n",
    "        res = pd.concat([res, tmp])\n",
    "    res = res.reset_index().rename(columns=dict(zip([i for i in range(8)] + [\"index\"], X.columns.to_list() + [\"importance_ranking\"])))\n",
    "    return res.melt(id_vars=[\"importance_ranking\"], value_vars=X.columns)"
   ]
  },
  {
   "cell_type": "code",
   "execution_count": null,
   "metadata": {},
   "outputs": [],
   "source": [
    "def get_orderings_and_ranks_shap(explanations):\n",
    "    importance_orderings = []\n",
    "    importance_ranks = []\n",
    "    for explanation in explanations:\n",
    "        df = explanation.result.copy()\n",
    "        df[\"aggregated_change\"] = trapezoid(np.abs(df.iloc[:, 6:].values), explanation.timestamps)\n",
    "        importance_orderings.append(df.sort_values(by=\"aggregated_change\", key=lambda x: -abs(x)).index.to_list())\n",
    "        importance_ranks.append(np.abs(df.aggregated_change).rank(ascending=False).to_list())\n",
    "    return pd.DataFrame(importance_orderings), pd.DataFrame(importance_ranks)\n",
    "\n",
    "def get_orderings_and_ranks_lime(explanations):\n",
    "    importance_orderings = []\n",
    "    importance_ranks = []\n",
    "    for explanation in explanations:\n",
    "        df = explanation.result\n",
    "        df[\"impact\"] = df[\"variable_value\"] * df[\"coefficient\"] \n",
    "        importance_orderings.append(df.sort_values(by=\"impact\", key=lambda x: -abs(x)).index.to_list())\n",
    "        importance_ranks.append(np.abs(df.impact).rank(ascending=False).to_list())\n",
    "    return pd.DataFrame(importance_orderings), pd.DataFrame(importance_ranks)"
   ]
  },
  {
   "cell_type": "code",
   "execution_count": null,
   "metadata": {},
   "outputs": [],
   "source": [
    "cph_survshap_orderings, cph_survshap_ranks = get_orderings_and_ranks_shap(exp3_survshap_global_cph.individual_explanations)\n",
    "prepare_ranking_summary_long(cph_survshap_orderings).to_csv(\"results/exp3_survshap_orderings_cph.csv\")"
   ]
  },
  {
   "cell_type": "code",
   "execution_count": null,
   "metadata": {},
   "outputs": [],
   "source": [
    "rsf_survshap_orderings, rsf_survshap_ranks = get_orderings_and_ranks_shap(exp3_survshap_global_rsf.individual_explanations)\n",
    "prepare_ranking_summary_long(rsf_survshap_orderings).to_csv(\"results/exp3_survshap_orderings_rsf.csv\")"
   ]
  },
  {
   "cell_type": "markdown",
   "metadata": {},
   "source": [
    "#### Calculating permutational variable importance"
   ]
  },
  {
   "cell_type": "code",
   "execution_count": null,
   "metadata": {},
   "outputs": [],
   "source": [
    "np.unique(np.percentile(y[mask][\"time\"], np.linspace(0.1, 99.9, 101)))\n",
    "def loss_integrated_brier_score(model, data, y):\n",
    "    sfs = model.predict_survival_function(data)\n",
    "    sfs = [sf(times) for sf in sfs] \n",
    "    result = integrated_brier_score(y, y, sfs, times)\n",
    "    return 1-result"
   ]
  },
  {
   "cell_type": "code",
   "execution_count": null,
   "metadata": {},
   "outputs": [],
   "source": [
    "from sklearn.inspection import permutation_importance\n",
    "imp_mean_rsf = permutation_importance(rsf, X, y, \n",
    "                    scoring = loss_integrated_brier_score, n_repeats=100, random_state=42)[\"importances_mean\"]"
   ]
  },
  {
   "cell_type": "code",
   "execution_count": null,
   "metadata": {},
   "outputs": [],
   "source": [
    "pd.DataFrame(zip(X.columns, imp_mean_rsf)).sort_values(by=1, ascending=False)"
   ]
  },
  {
   "cell_type": "code",
   "execution_count": null,
   "metadata": {},
   "outputs": [],
   "source": [
    "imp_mean_cph = permutation_importance(cph, X, y, \n",
    "                    scoring = loss_integrated_brier_score, n_repeats=100, random_state=42)[\"importances_mean\"]"
   ]
  },
  {
   "cell_type": "code",
   "execution_count": null,
   "metadata": {},
   "outputs": [],
   "source": [
    "pd.DataFrame(zip(X.columns, imp_mean_cph)).sort_values(by=1, ascending=False)"
   ]
  },
  {
   "cell_type": "code",
   "execution_count": null,
   "metadata": {},
   "outputs": [],
   "source": [
    "cph_survlime_orderings, cph_survlime_ranks = get_orderings_and_ranks_lime(exp3_survlime_global_cph)\n",
    "rsf_survlime_orderings, rsf_survlime_ranks = get_orderings_and_ranks_lime(exp3_survlime_global_rsf)"
   ]
  },
  {
   "cell_type": "code",
   "execution_count": null,
   "metadata": {},
   "outputs": [],
   "source": [
    "prepare_ranking_summary_long(cph_survlime_orderings).to_csv(\"results/exp3_survlime_orderings_cph.csv\")\n",
    "prepare_ranking_summary_long(rsf_survlime_orderings).to_csv(\"results/exp3_survlime_orderings_rsf.csv\")"
   ]
  }
 ],
 "metadata": {
  "kernelspec": {
   "display_name": "Python 3.10.5 ('survshap')",
   "language": "python",
   "name": "python3"
  },
  "language_info": {
   "codemirror_mode": {
    "name": "ipython",
    "version": 3
   },
   "file_extension": ".py",
   "mimetype": "text/x-python",
   "name": "python",
   "nbconvert_exporter": "python",
   "pygments_lexer": "ipython3",
   "version": "3.10.5"
  },
  "vscode": {
   "interpreter": {
    "hash": "2e89d17bf3f53615b213f4c00662e1677a8885f31ece09e136535e9b43ddada0"
   }
  }
 },
 "nbformat": 4,
 "nbformat_minor": 2
}
