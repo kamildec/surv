{
 "cells": [
  {
   "cell_type": "markdown",
   "metadata": {},
   "source": [
    "# SurvSHAP(t): Time-Dependent Explanations Of Machine Learning Survival Models\n",
    "### M. Krzyziński, M. Spytek, H. Baniecki, P. Biecek\n",
    "## Experiment 2: Comparison to SurvLIME\n",
    "### Generating SurvLIME explanations for dataset1"
   ]
  },
  {
   "cell_type": "markdown",
   "metadata": {},
   "source": [
    "#### Imports"
   ]
  },
  {
   "cell_type": "code",
   "execution_count": null,
   "metadata": {},
   "outputs": [],
   "source": [
    "import pandas as pd\n",
    "import numpy as np \n",
    "import pickle\n",
    "from tqdm import tqdm\n",
    "np.random.seed(123)"
   ]
  },
  {
   "cell_type": "markdown",
   "metadata": {},
   "source": [
    "#### Preparing data - split saved for further use"
   ]
  },
  {
   "cell_type": "code",
   "execution_count": null,
   "metadata": {},
   "outputs": [],
   "source": [
    "dataset1 = pd.read_csv(\"data/exp2_dataset1.csv\")"
   ]
  },
  {
   "cell_type": "code",
   "execution_count": null,
   "metadata": {},
   "outputs": [],
   "source": [
    "from sklearn.model_selection import train_test_split\n",
    "dataset1_train, dataset1_test = train_test_split(dataset1, test_size=0.1, random_state=123, )\n",
    "dataset1_train.to_csv(\"data/exp2_dataset1_train.csv\", index=False)\n",
    "dataset1_test.to_csv(\"data/exp2_dataset1_test.csv\", index=False)"
   ]
  },
  {
   "cell_type": "code",
   "execution_count": null,
   "metadata": {},
   "outputs": [],
   "source": [
    "dataset1_train = pd.read_csv(\"data/exp2_dataset1_train.csv\")\n",
    "dataset1_test = pd.read_csv(\"data/exp2_dataset1_test.csv\")"
   ]
  },
  {
   "cell_type": "markdown",
   "metadata": {},
   "source": [
    "#### Creating models"
   ]
  },
  {
   "cell_type": "code",
   "execution_count": null,
   "metadata": {},
   "outputs": [],
   "source": [
    "from sksurv.util import Surv\n",
    "X_train = dataset1_train.iloc[:, :5]\n",
    "X_test = dataset1_test.iloc[:, :5]\n",
    "y_train = Surv.from_dataframe(\"event\", \"time\", dataset1_train)\n",
    "y_test= Surv.from_dataframe(\"event\", \"time\", dataset1_test)"
   ]
  },
  {
   "cell_type": "code",
   "execution_count": null,
   "metadata": {},
   "outputs": [],
   "source": [
    "from sksurv.linear_model import CoxPHSurvivalAnalysis\n",
    "cph = CoxPHSurvivalAnalysis()\n",
    "cph.fit(X_train, y_train)"
   ]
  },
  {
   "cell_type": "code",
   "execution_count": null,
   "metadata": {},
   "outputs": [],
   "source": [
    "from sksurv.ensemble import RandomSurvivalForest\n",
    "rsf = RandomSurvivalForest(n_estimators=150, max_depth=12, max_features=3, min_samples_leaf=6, min_samples_split=10, random_state=123)\n",
    "rsf.fit(X_train, y_train)"
   ]
  },
  {
   "cell_type": "markdown",
   "metadata": {},
   "source": [
    "#### Evaluating performance of models "
   ]
  },
  {
   "cell_type": "code",
   "execution_count": null,
   "metadata": {},
   "outputs": [],
   "source": [
    "from sksurv.metrics import brier_score, integrated_brier_score\n",
    "# mask created to enable for calculating Brier score\n",
    "mask = (y_test[\"time\"] < y_train[y_train[\"event\"]==1][\"time\"].max()) & (y_test[\"time\"] > y_train[y_train[\"event\"]==1][\"time\"].min())\n",
    "times = np.percentile(y_test[mask][\"time\"], np.linspace(0.1, 99.9, 101))"
   ]
  },
  {
   "cell_type": "code",
   "execution_count": null,
   "metadata": {},
   "outputs": [],
   "source": [
    "survs_rsf = rsf.predict_survival_function(X_test[mask])\n",
    "survs_cph = cph.predict_survival_function(X_test[mask])\n",
    "preds_rsf = [fn(times) for fn in survs_rsf]\n",
    "preds_cph = [fn(times) for fn in survs_cph]\n",
    "brier_rsf = brier_score(y_train, y_test[mask], preds_rsf, times)\n",
    "brier_cph = brier_score(y_train, y_test[mask], preds_cph, times)"
   ]
  },
  {
   "cell_type": "code",
   "execution_count": null,
   "metadata": {},
   "outputs": [],
   "source": [
    "pd.concat([pd.DataFrame({\"time\": times, \"brier_score\":  brier_rsf[1], \"label\": \"RSF\"}),\n",
    "            pd.DataFrame({\"time\": times, \"brier_score\":  brier_cph[1], \"label\": \"CPH\"})]).to_csv(\"results/exp2_dataset1_model_brier_score.csv\")"
   ]
  },
  {
   "cell_type": "code",
   "execution_count": null,
   "metadata": {},
   "outputs": [],
   "source": [
    "integrated_brier_score(y_train, y_test[mask], preds_rsf, times), integrated_brier_score(y_train, y_test[mask], preds_cph, times)"
   ]
  },
  {
   "cell_type": "markdown",
   "metadata": {},
   "source": [
    "#### Calculating permutational variable importance"
   ]
  },
  {
   "cell_type": "code",
   "execution_count": null,
   "metadata": {},
   "outputs": [],
   "source": [
    "times = np.percentile(y_test[\"time\"], np.linspace(10, 90, 90))\n",
    "def loss_integrated_brier_score(model, data, y):\n",
    "    sfs = model.predict_survival_function(data)\n",
    "    sfs = [sf(times) for sf in sfs] \n",
    "    result = integrated_brier_score(y_train, y, sfs, times)\n",
    "    return 1-result"
   ]
  },
  {
   "cell_type": "code",
   "execution_count": null,
   "metadata": {},
   "outputs": [],
   "source": [
    "from sklearn.inspection import permutation_importance\n",
    "perm_imp = permutation_importance(rsf, X_test[y_test[\"time\"]<1000], y_test[y_test[\"time\"]<1000], \n",
    "                    scoring = loss_integrated_brier_score, n_repeats=100, random_state=42)\n",
    "perm_imp[\"importances_mean\"]"
   ]
  },
  {
   "cell_type": "markdown",
   "metadata": {},
   "source": [
    "##### Creating explanations"
   ]
  },
  {
   "cell_type": "code",
   "execution_count": null,
   "metadata": {},
   "outputs": [],
   "source": [
    "from survshap import SurvivalModelExplainer\n",
    "cph_exp = SurvivalModelExplainer(cph, X_train, y_train)\n",
    "rsf_exp = SurvivalModelExplainer(rsf, X_train, y_train)"
   ]
  },
  {
   "cell_type": "code",
   "execution_count": null,
   "metadata": {},
   "outputs": [],
   "source": [
    "### kernel and neighbourhood based on SurvLIME paper\n",
    "def kernel(distance):\n",
    "    return 1 - np.sqrt(distance / 0.5)\n",
    "def generate_neighbours(ind):\n",
    "    count_neighbours = 0\n",
    "    neighbours = np.zeros((1000, 5))\n",
    "    while count_neighbours < 1000:\n",
    "        neigh = np.random.random(5) - 0.5\n",
    "        if np.sqrt(np.sum(neigh**2)) <= 0.5:\n",
    "            neighbours[count_neighbours, ] = neigh\n",
    "            count_neighbours += 1\n",
    "    neighbours += X_test.iloc[[ind]].values\n",
    "    neighbours[0, ] = X_test.iloc[[ind]].values\n",
    "    return neighbours"
   ]
  },
  {
   "cell_type": "code",
   "execution_count": null,
   "metadata": {},
   "outputs": [],
   "source": [
    "from survlime import SurvLIME\n",
    "n_obs = len(X_test)\n",
    "sls = [None for i in range(n_obs)]\n",
    "funcs_dist = [None for i in range(n_obs)]\n",
    "for i, obs in tqdm(enumerate(X_test.values)):\n",
    "    xx = pd.DataFrame(np.atleast_2d(obs), columns=cph_exp.data.columns)\n",
    "    survlime = SurvLIME(N=1000)\n",
    "    survlime.fit(cph_exp, xx, kernel=kernel, neighbourhood=generate_neighbours(i), k=1)\n",
    "    sls[i] = survlime"
   ]
  },
  {
   "cell_type": "code",
   "execution_count": null,
   "metadata": {},
   "outputs": [],
   "source": [
    "with open(\"pickles/exp2_survlime_dataset1_cph\", \"wb\") as f:\n",
    "    pickle.dump(sls, f)"
   ]
  },
  {
   "cell_type": "code",
   "execution_count": null,
   "metadata": {},
   "outputs": [],
   "source": [
    "n_obs = len(X_test)\n",
    "sls = [None for i in range(n_obs)]\n",
    "funcs_dist = [None for i in range(n_obs)]\n",
    "for i, obs in tqdm(enumerate(X_test.values)):\n",
    "    xx = pd.DataFrame(np.atleast_2d(obs), columns=rsf_exp.data.columns)\n",
    "    survlime = SurvLIME(N=1000)\n",
    "    survlime.fit(rsf_exp, xx, kernel=kernel, neighbourhood=generate_neighbours(i), k=1+1e-4)\n",
    "    sls[i] = survlime"
   ]
  },
  {
   "cell_type": "code",
   "execution_count": null,
   "metadata": {},
   "outputs": [],
   "source": [
    "with open(\"pickles/exp2_survlime_dataset1_rsf\", \"wb\") as f:\n",
    "    pickle.dump(sls, f)"
   ]
  }
 ],
 "metadata": {
  "kernelspec": {
   "display_name": "Python 3.10.5 ('survshap')",
   "language": "python",
   "name": "python3"
  },
  "language_info": {
   "codemirror_mode": {
    "name": "ipython",
    "version": 3
   },
   "file_extension": ".py",
   "mimetype": "text/x-python",
   "name": "python",
   "nbconvert_exporter": "python",
   "pygments_lexer": "ipython3",
   "version": "3.10.5"
  },
  "orig_nbformat": 4,
  "vscode": {
   "interpreter": {
    "hash": "2e89d17bf3f53615b213f4c00662e1677a8885f31ece09e136535e9b43ddada0"
   }
  }
 },
 "nbformat": 4,
 "nbformat_minor": 2
}
