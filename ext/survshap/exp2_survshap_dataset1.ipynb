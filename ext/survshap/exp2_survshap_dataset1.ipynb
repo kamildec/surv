{
 "cells": [
  {
   "cell_type": "markdown",
   "metadata": {},
   "source": [
    "# SurvSHAP(t): Time-Dependent Explanations Of Machine Learning Survival Models\n",
    "### M. Krzyziński, M. Spytek, H. Baniecki, P. Biecek\n",
    "## Experiment 2: Comparison to SurvLIME\n",
    "### Generating SurvSHAP(t) explanations for dataset1"
   ]
  },
  {
   "cell_type": "markdown",
   "metadata": {},
   "source": [
    "#### Imports"
   ]
  },
  {
   "cell_type": "code",
   "execution_count": null,
   "metadata": {},
   "outputs": [],
   "source": [
    "import pandas as pd\n",
    "import numpy as np \n",
    "import pickle\n",
    "from tqdm import tqdm\n",
    "np.random.seed(123)"
   ]
  },
  {
   "cell_type": "markdown",
   "metadata": {},
   "source": [
    "#### Reading data"
   ]
  },
  {
   "cell_type": "code",
   "execution_count": null,
   "metadata": {},
   "outputs": [],
   "source": [
    "dataset1_train = pd.read_csv(\"data/exp2_dataset1_train.csv\")\n",
    "dataset1_test = pd.read_csv(\"data/exp2_dataset1_test.csv\")"
   ]
  },
  {
   "cell_type": "code",
   "execution_count": null,
   "metadata": {},
   "outputs": [],
   "source": [
    "from sksurv.util import Surv\n",
    "X_train = dataset1_train.iloc[:, :5]\n",
    "X_test = dataset1_test.iloc[:, :5]\n",
    "y_train = Surv.from_dataframe(\"event\", \"time\", dataset1_train)\n",
    "y_test = Surv.from_dataframe(\"event\", \"time\", dataset1_test)"
   ]
  },
  {
   "cell_type": "markdown",
   "metadata": {},
   "source": [
    "#### Creating models"
   ]
  },
  {
   "cell_type": "code",
   "execution_count": null,
   "metadata": {},
   "outputs": [],
   "source": [
    "from sksurv.linear_model import CoxPHSurvivalAnalysis\n",
    "cph = CoxPHSurvivalAnalysis()\n",
    "cph.fit(X_train, y_train)"
   ]
  },
  {
   "cell_type": "code",
   "execution_count": null,
   "metadata": {},
   "outputs": [],
   "source": [
    "from sksurv.ensemble import RandomSurvivalForest\n",
    "rsf = RandomSurvivalForest(n_estimators=150, max_depth=12, max_features=3, min_samples_leaf=6, min_samples_split=10, random_state=123, )\n",
    "rsf.fit(X_train, y_train)"
   ]
  },
  {
   "cell_type": "markdown",
   "metadata": {},
   "source": [
    "##### Creating explanations"
   ]
  },
  {
   "cell_type": "code",
   "execution_count": null,
   "metadata": {},
   "outputs": [],
   "source": [
    "from survshap import SurvivalModelExplainer, PredictSurvSHAP, ModelSurvSHAP\n",
    "cph_exp = SurvivalModelExplainer(cph, X_train, y_train)\n",
    "rsf_exp = SurvivalModelExplainer(rsf, X_train, y_train)"
   ]
  },
  {
   "cell_type": "code",
   "execution_count": null,
   "metadata": {},
   "outputs": [],
   "source": [
    "n_obs = len(X_test)\n",
    "survshaps = [None for i in range(n_obs)]\n",
    "for i, obs in tqdm(enumerate(X_test.values)):\n",
    "    xx = pd.DataFrame(np.atleast_2d(obs), columns=cph_exp.data.columns)\n",
    "    survshap = PredictSurvSHAP()\n",
    "    survshap.fit(cph_exp, xx)\n",
    "    survshaps[i] = survshap"
   ]
  },
  {
   "cell_type": "code",
   "execution_count": null,
   "metadata": {},
   "outputs": [],
   "source": [
    "with open(\"pickles/exp2_survshap_dataset1_cph\", \"wb\") as file:\n",
    "    pickle.dump(survshaps, file)"
   ]
  },
  {
   "cell_type": "code",
   "execution_count": null,
   "metadata": {},
   "outputs": [],
   "source": [
    "n_obs = len(X_test)\n",
    "survshaps = [None for i in range(n_obs)]\n",
    "for i, obs in tqdm(enumerate(X_test.values)):\n",
    "    xx = pd.DataFrame(np.atleast_2d(obs), columns=rsf_exp.data.columns)\n",
    "    survshap = PredictSurvSHAP()\n",
    "    survshap.fit(rsf_exp, xx)\n",
    "    survshaps[i] = survshap"
   ]
  },
  {
   "cell_type": "code",
   "execution_count": null,
   "metadata": {},
   "outputs": [],
   "source": [
    "with open(\"pickles/exp2_survshap_dataset1_rsf\", \"wb\") as file:\n",
    "    pickle.dump(survshaps, file)"
   ]
  },
  {
   "cell_type": "code",
   "execution_count": null,
   "metadata": {},
   "outputs": [],
   "source": []
  }
 ],
 "metadata": {
  "kernelspec": {
   "display_name": "Python 3.10.5 ('survshap')",
   "language": "python",
   "name": "python3"
  },
  "language_info": {
   "codemirror_mode": {
    "name": "ipython",
    "version": 3
   },
   "file_extension": ".py",
   "mimetype": "text/x-python",
   "name": "python",
   "nbconvert_exporter": "python",
   "pygments_lexer": "ipython3",
   "version": "3.10.5"
  },
  "orig_nbformat": 4,
  "vscode": {
   "interpreter": {
    "hash": "2e89d17bf3f53615b213f4c00662e1677a8885f31ece09e136535e9b43ddada0"
   }
  }
 },
 "nbformat": 4,
 "nbformat_minor": 2
}
